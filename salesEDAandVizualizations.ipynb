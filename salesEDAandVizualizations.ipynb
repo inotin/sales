{
 "cells": [
  {
   "cell_type": "code",
   "execution_count": 1,
   "metadata": {
    "scrolled": false
   },
   "outputs": [
    {
     "name": "stderr",
     "output_type": "stream",
     "text": [
      "2021-07-23 15:11:12.758819: W tensorflow/stream_executor/platform/default/dso_loader.cc:64] Could not load dynamic library 'libcudart.so.11.0'; dlerror: libcudart.so.11.0: cannot open shared object file: No such file or directory\n",
      "2021-07-23 15:11:12.758875: I tensorflow/stream_executor/cuda/cudart_stub.cc:29] Ignore above cudart dlerror if you do not have a GPU set up on your machine.\n"
     ]
    }
   ],
   "source": [
    "import pandas as pd\n",
    "import numpy as np\n",
    "import datetime\n",
    "import sys, os\n",
    "import matplotlib.pyplot as plt\n",
    "import plotly.express as px\n",
    "from statsmodels.tsa.seasonal import seasonal_decompose\n",
    "from keras.layers import Dense\n",
    "\n",
    "from plotly.subplots import make_subplots\n",
    "import plotly.graph_objects as go\n",
    "import seaborn as sns\n",
    "from statsmodels.tsa.stattools import adfuller"
   ]
  },
  {
   "cell_type": "code",
   "execution_count": 2,
   "metadata": {},
   "outputs": [],
   "source": [
    "pathForData = 'data/dfSalesAnonimized.pkl'\n",
    "pathForImages = 'images/'"
   ]
  },
  {
   "cell_type": "markdown",
   "metadata": {},
   "source": [
    "\n",
    "## To-do:\n",
    "- [x] Use Dickey-Fuller test to check if TS is stationary  "
   ]
  },
  {
   "cell_type": "code",
   "execution_count": 3,
   "metadata": {},
   "outputs": [
    {
     "data": {
      "text/html": [
       "<div>\n",
       "<style scoped>\n",
       "    .dataframe tbody tr th:only-of-type {\n",
       "        vertical-align: middle;\n",
       "    }\n",
       "\n",
       "    .dataframe tbody tr th {\n",
       "        vertical-align: top;\n",
       "    }\n",
       "\n",
       "    .dataframe thead th {\n",
       "        text-align: right;\n",
       "    }\n",
       "</style>\n",
       "<table border=\"1\" class=\"dataframe\">\n",
       "  <thead>\n",
       "    <tr style=\"text-align: right;\">\n",
       "      <th></th>\n",
       "      <th>date</th>\n",
       "      <th>product</th>\n",
       "      <th>quantity</th>\n",
       "      <th>sum</th>\n",
       "      <th>company</th>\n",
       "      <th>taxNumber</th>\n",
       "    </tr>\n",
       "  </thead>\n",
       "  <tbody>\n",
       "    <tr>\n",
       "      <th>0</th>\n",
       "      <td>2018-09-13</td>\n",
       "      <td>product_item_1</td>\n",
       "      <td>quantity_item_1</td>\n",
       "      <td>35750.234320</td>\n",
       "      <td>company_item_1</td>\n",
       "      <td>taxNumber_item_1</td>\n",
       "    </tr>\n",
       "    <tr>\n",
       "      <th>1</th>\n",
       "      <td>2018-10-11</td>\n",
       "      <td>product_item_1</td>\n",
       "      <td>quantity_item_1</td>\n",
       "      <td>35912.426543</td>\n",
       "      <td>company_item_1</td>\n",
       "      <td>taxNumber_item_1</td>\n",
       "    </tr>\n",
       "    <tr>\n",
       "      <th>2</th>\n",
       "      <td>2018-07-14</td>\n",
       "      <td>product_item_1</td>\n",
       "      <td>quantity_item_1</td>\n",
       "      <td>82452.931598</td>\n",
       "      <td>company_item_1</td>\n",
       "      <td>taxNumber_item_1</td>\n",
       "    </tr>\n",
       "    <tr>\n",
       "      <th>3</th>\n",
       "      <td>2018-08-14</td>\n",
       "      <td>product_item_1</td>\n",
       "      <td>quantity_item_1</td>\n",
       "      <td>82452.931598</td>\n",
       "      <td>company_item_1</td>\n",
       "      <td>taxNumber_item_1</td>\n",
       "    </tr>\n",
       "    <tr>\n",
       "      <th>4</th>\n",
       "      <td>2018-09-27</td>\n",
       "      <td>product_item_1</td>\n",
       "      <td>quantity_item_1</td>\n",
       "      <td>82452.931598</td>\n",
       "      <td>company_item_1</td>\n",
       "      <td>taxNumber_item_1</td>\n",
       "    </tr>\n",
       "  </tbody>\n",
       "</table>\n",
       "</div>"
      ],
      "text/plain": [
       "        date         product         quantity           sum         company  \\\n",
       "0 2018-09-13  product_item_1  quantity_item_1  35750.234320  company_item_1   \n",
       "1 2018-10-11  product_item_1  quantity_item_1  35912.426543  company_item_1   \n",
       "2 2018-07-14  product_item_1  quantity_item_1  82452.931598  company_item_1   \n",
       "3 2018-08-14  product_item_1  quantity_item_1  82452.931598  company_item_1   \n",
       "4 2018-09-27  product_item_1  quantity_item_1  82452.931598  company_item_1   \n",
       "\n",
       "          taxNumber  \n",
       "0  taxNumber_item_1  \n",
       "1  taxNumber_item_1  \n",
       "2  taxNumber_item_1  \n",
       "3  taxNumber_item_1  \n",
       "4  taxNumber_item_1  "
      ]
     },
     "execution_count": 3,
     "metadata": {},
     "output_type": "execute_result"
    }
   ],
   "source": [
    "df = pd.read_pickle(pathForData)\n",
    "df.head()"
   ]
  },
  {
   "cell_type": "code",
   "execution_count": 4,
   "metadata": {},
   "outputs": [
    {
     "name": "stdout",
     "output_type": "stream",
     "text": [
      "<class 'pandas.core.frame.DataFrame'>\n",
      "RangeIndex: 308243 entries, 0 to 308242\n",
      "Data columns (total 6 columns):\n",
      " #   Column     Non-Null Count   Dtype         \n",
      "---  ------     --------------   -----         \n",
      " 0   date       308243 non-null  datetime64[ns]\n",
      " 1   product    308243 non-null  object        \n",
      " 2   quantity   308243 non-null  object        \n",
      " 3   sum        308243 non-null  float64       \n",
      " 4   company    308243 non-null  object        \n",
      " 5   taxNumber  308243 non-null  object        \n",
      "dtypes: datetime64[ns](1), float64(1), object(4)\n",
      "memory usage: 14.1+ MB\n"
     ]
    }
   ],
   "source": [
    "df.info()"
   ]
  },
  {
   "cell_type": "code",
   "execution_count": 5,
   "metadata": {},
   "outputs": [
    {
     "data": {
      "text/html": [
       "<div>\n",
       "<style scoped>\n",
       "    .dataframe tbody tr th:only-of-type {\n",
       "        vertical-align: middle;\n",
       "    }\n",
       "\n",
       "    .dataframe tbody tr th {\n",
       "        vertical-align: top;\n",
       "    }\n",
       "\n",
       "    .dataframe thead th {\n",
       "        text-align: right;\n",
       "    }\n",
       "</style>\n",
       "<table border=\"1\" class=\"dataframe\">\n",
       "  <thead>\n",
       "    <tr style=\"text-align: right;\">\n",
       "      <th></th>\n",
       "      <th>sum</th>\n",
       "    </tr>\n",
       "  </thead>\n",
       "  <tbody>\n",
       "    <tr>\n",
       "      <th>count</th>\n",
       "      <td>3.082430e+05</td>\n",
       "    </tr>\n",
       "    <tr>\n",
       "      <th>mean</th>\n",
       "      <td>1.115386e+05</td>\n",
       "    </tr>\n",
       "    <tr>\n",
       "      <th>std</th>\n",
       "      <td>2.953429e+05</td>\n",
       "    </tr>\n",
       "    <tr>\n",
       "      <th>min</th>\n",
       "      <td>-1.363824e+06</td>\n",
       "    </tr>\n",
       "    <tr>\n",
       "      <th>25%</th>\n",
       "      <td>3.214621e+04</td>\n",
       "    </tr>\n",
       "    <tr>\n",
       "      <th>50%</th>\n",
       "      <td>4.483770e+04</td>\n",
       "    </tr>\n",
       "    <tr>\n",
       "      <th>75%</th>\n",
       "      <td>8.130485e+04</td>\n",
       "    </tr>\n",
       "    <tr>\n",
       "      <th>max</th>\n",
       "      <td>1.939293e+07</td>\n",
       "    </tr>\n",
       "  </tbody>\n",
       "</table>\n",
       "</div>"
      ],
      "text/plain": [
       "                sum\n",
       "count  3.082430e+05\n",
       "mean   1.115386e+05\n",
       "std    2.953429e+05\n",
       "min   -1.363824e+06\n",
       "25%    3.214621e+04\n",
       "50%    4.483770e+04\n",
       "75%    8.130485e+04\n",
       "max    1.939293e+07"
      ]
     },
     "execution_count": 5,
     "metadata": {},
     "output_type": "execute_result"
    }
   ],
   "source": [
    "df.describe()"
   ]
  },
  {
   "cell_type": "code",
   "execution_count": 6,
   "metadata": {
    "scrolled": true
   },
   "outputs": [
    {
     "data": {
      "text/plain": [
       "Timestamp('2018-01-03 00:00:00')"
      ]
     },
     "execution_count": 6,
     "metadata": {},
     "output_type": "execute_result"
    }
   ],
   "source": [
    "df.date.min()"
   ]
  },
  {
   "cell_type": "code",
   "execution_count": 7,
   "metadata": {},
   "outputs": [
    {
     "data": {
      "text/plain": [
       "Timestamp('2021-04-30 00:00:00')"
      ]
     },
     "execution_count": 7,
     "metadata": {},
     "output_type": "execute_result"
    }
   ],
   "source": [
    "df.date.max()"
   ]
  },
  {
   "cell_type": "code",
   "execution_count": 8,
   "metadata": {},
   "outputs": [
    {
     "data": {
      "text/html": [
       "<div>\n",
       "<style scoped>\n",
       "    .dataframe tbody tr th:only-of-type {\n",
       "        vertical-align: middle;\n",
       "    }\n",
       "\n",
       "    .dataframe tbody tr th {\n",
       "        vertical-align: top;\n",
       "    }\n",
       "\n",
       "    .dataframe thead th {\n",
       "        text-align: right;\n",
       "    }\n",
       "</style>\n",
       "<table border=\"1\" class=\"dataframe\">\n",
       "  <thead>\n",
       "    <tr style=\"text-align: right;\">\n",
       "      <th></th>\n",
       "      <th>date</th>\n",
       "      <th>product</th>\n",
       "      <th>quantity</th>\n",
       "      <th>sum</th>\n",
       "      <th>company</th>\n",
       "      <th>taxNumber</th>\n",
       "    </tr>\n",
       "  </thead>\n",
       "  <tbody>\n",
       "    <tr>\n",
       "      <th>137678</th>\n",
       "      <td>2019-04-10</td>\n",
       "      <td>product_item_395</td>\n",
       "      <td>quantity_item_2</td>\n",
       "      <td>51951.609154</td>\n",
       "      <td>company_item_71</td>\n",
       "      <td>taxNumber_item_71</td>\n",
       "    </tr>\n",
       "    <tr>\n",
       "      <th>162913</th>\n",
       "      <td>2019-10-01</td>\n",
       "      <td>product_item_556</td>\n",
       "      <td>quantity_item_1</td>\n",
       "      <td>39243.420608</td>\n",
       "      <td>company_item_7</td>\n",
       "      <td>taxNumber_item_7</td>\n",
       "    </tr>\n",
       "    <tr>\n",
       "      <th>203862</th>\n",
       "      <td>2020-07-30</td>\n",
       "      <td>product_item_177</td>\n",
       "      <td>quantity_item_4</td>\n",
       "      <td>66927.775173</td>\n",
       "      <td>company_item_43</td>\n",
       "      <td>taxNumber_item_43</td>\n",
       "    </tr>\n",
       "    <tr>\n",
       "      <th>195805</th>\n",
       "      <td>2020-09-18</td>\n",
       "      <td>product_item_113</td>\n",
       "      <td>quantity_item_4</td>\n",
       "      <td>52837.717242</td>\n",
       "      <td>company_item_718</td>\n",
       "      <td>taxNumber_item_716</td>\n",
       "    </tr>\n",
       "    <tr>\n",
       "      <th>293043</th>\n",
       "      <td>2021-01-28</td>\n",
       "      <td>product_item_414</td>\n",
       "      <td>quantity_item_5</td>\n",
       "      <td>168297.914179</td>\n",
       "      <td>company_item_88</td>\n",
       "      <td>taxNumber_item_88</td>\n",
       "    </tr>\n",
       "    <tr>\n",
       "      <th>239428</th>\n",
       "      <td>2020-09-11</td>\n",
       "      <td>product_item_446</td>\n",
       "      <td>quantity_item_1</td>\n",
       "      <td>56411.999641</td>\n",
       "      <td>company_item_718</td>\n",
       "      <td>taxNumber_item_716</td>\n",
       "    </tr>\n",
       "    <tr>\n",
       "      <th>222205</th>\n",
       "      <td>2020-07-13</td>\n",
       "      <td>product_item_341</td>\n",
       "      <td>quantity_item_1</td>\n",
       "      <td>32146.206243</td>\n",
       "      <td>company_item_60</td>\n",
       "      <td>taxNumber_item_60</td>\n",
       "    </tr>\n",
       "    <tr>\n",
       "      <th>40069</th>\n",
       "      <td>2018-04-05</td>\n",
       "      <td>product_item_301</td>\n",
       "      <td>quantity_item_5</td>\n",
       "      <td>95150.683064</td>\n",
       "      <td>company_item_29</td>\n",
       "      <td>taxNumber_item_29</td>\n",
       "    </tr>\n",
       "    <tr>\n",
       "      <th>196683</th>\n",
       "      <td>2020-02-05</td>\n",
       "      <td>product_item_114</td>\n",
       "      <td>quantity_item_4</td>\n",
       "      <td>43960.980745</td>\n",
       "      <td>company_item_727</td>\n",
       "      <td>taxNumber_item_725</td>\n",
       "    </tr>\n",
       "    <tr>\n",
       "      <th>122879</th>\n",
       "      <td>2019-12-16</td>\n",
       "      <td>product_item_243</td>\n",
       "      <td>quantity_item_1</td>\n",
       "      <td>32146.206243</td>\n",
       "      <td>company_item_6</td>\n",
       "      <td>taxNumber_item_6</td>\n",
       "    </tr>\n",
       "  </tbody>\n",
       "</table>\n",
       "</div>"
      ],
      "text/plain": [
       "             date           product         quantity            sum  \\\n",
       "137678 2019-04-10  product_item_395  quantity_item_2   51951.609154   \n",
       "162913 2019-10-01  product_item_556  quantity_item_1   39243.420608   \n",
       "203862 2020-07-30  product_item_177  quantity_item_4   66927.775173   \n",
       "195805 2020-09-18  product_item_113  quantity_item_4   52837.717242   \n",
       "293043 2021-01-28  product_item_414  quantity_item_5  168297.914179   \n",
       "239428 2020-09-11  product_item_446  quantity_item_1   56411.999641   \n",
       "222205 2020-07-13  product_item_341  quantity_item_1   32146.206243   \n",
       "40069  2018-04-05  product_item_301  quantity_item_5   95150.683064   \n",
       "196683 2020-02-05  product_item_114  quantity_item_4   43960.980745   \n",
       "122879 2019-12-16  product_item_243  quantity_item_1   32146.206243   \n",
       "\n",
       "                 company           taxNumber  \n",
       "137678   company_item_71   taxNumber_item_71  \n",
       "162913    company_item_7    taxNumber_item_7  \n",
       "203862   company_item_43   taxNumber_item_43  \n",
       "195805  company_item_718  taxNumber_item_716  \n",
       "293043   company_item_88   taxNumber_item_88  \n",
       "239428  company_item_718  taxNumber_item_716  \n",
       "222205   company_item_60   taxNumber_item_60  \n",
       "40069    company_item_29   taxNumber_item_29  \n",
       "196683  company_item_727  taxNumber_item_725  \n",
       "122879    company_item_6    taxNumber_item_6  "
      ]
     },
     "execution_count": 8,
     "metadata": {},
     "output_type": "execute_result"
    }
   ],
   "source": [
    "df.sample(10)"
   ]
  },
  {
   "cell_type": "code",
   "execution_count": null,
   "metadata": {},
   "outputs": [],
   "source": [
    "result = adfuller(np.array(df['sum']))\n",
    "print('ADF Statistic: %f' % result[0])\n",
    "print('p-value: %f' % result[1])\n",
    "print('Critical Values:')\n",
    "for key, value in result[4].items():\n",
    "    print('\\t%s: %.3f' % (key, value))"
   ]
  },
  {
   "cell_type": "code",
   "execution_count": null,
   "metadata": {},
   "outputs": [],
   "source": [
    "dfCount = df.groupby(by='date').count()"
   ]
  },
  {
   "cell_type": "code",
   "execution_count": null,
   "metadata": {},
   "outputs": [],
   "source": [
    "fig = px.line(dfCount['quantity'], height=400, width = 1200, labels={'value':'Number of sales'})\n",
    "fig.update_traces(line=dict(width=1))\n",
    "\n",
    "fig.show()"
   ]
  },
  {
   "cell_type": "code",
   "execution_count": null,
   "metadata": {},
   "outputs": [],
   "source": [
    "df['year']=df['date'].apply(lambda x: x.year)\n",
    "#day of year extraction\n",
    "df['day']=df['date'].apply(lambda x: x.timetuple().tm_yday)\n",
    "df.head()"
   ]
  },
  {
   "cell_type": "code",
   "execution_count": null,
   "metadata": {
    "scrolled": false
   },
   "outputs": [],
   "source": [
    "fig = go.Figure()\n",
    "for year in [2018,2019,2020,2021]:\n",
    "    dfT = df[df['year']== year]\n",
    "    fig.add_trace(go.Scatter(x=dfT['day'],\n",
    "                             y=dfT['sum'],\n",
    "                             mode='markers', \n",
    "                             marker=dict(opacity=0.3,size=4),\n",
    "                             name=year))\n",
    "    \n",
    "fig.update_layout(yaxis_range=(-2000000,10000000), title='Daily sales',  width=1200, height=400)\n",
    "fig.write_html(pathForImages+'dailySales.html')\n",
    "fig.write_image(pathForImages+'dailySales.png', width=1200, height=400, scale=2)"
   ]
  },
  {
   "cell_type": "code",
   "execution_count": null,
   "metadata": {},
   "outputs": [],
   "source": [
    "#DataFrame on a weekly basis\n",
    "dfW = df\n",
    "dfW = dfW.groupby(by=pd.Grouper(key='date',freq='W')).sum()\n",
    "\n",
    "# Multiplicative Decomposition \n",
    "result_mul = seasonal_decompose(dfW['sum'], model='multiplicative', extrapolate_trend='freq')\n",
    "\n",
    "# Additive Decomposition\n",
    "#result_add = seasonal_decompose(dfW['sum'], model='additive', extrapolate_trend='freq')\n",
    "\n",
    "fig = make_subplots(rows=4, cols=1, \n",
    "                    shared_xaxes=True,\n",
    "                    subplot_titles=(\"Initial Data\", \"Trend\", \"Seasonal\", \"Residual\") )\n",
    "\n",
    "fig.add_trace(\n",
    "    go.Scatter(x=dfW.index,y=result_mul.observed),\n",
    "    row=1, col=1\n",
    ")\n",
    "\n",
    "fig.add_trace(\n",
    "    go.Scatter(x=dfW.index,y=result_mul.trend),\n",
    "    row=2, col=1\n",
    ")\n",
    "\n",
    "fig.add_trace(\n",
    "    go.Scatter(x=dfW.index,y=result_mul.seasonal),\n",
    "    row=3, col=1\n",
    ")\n",
    "\n",
    "fig.add_trace(\n",
    "    go.Scatter(x=dfW.index,y=result_mul.resid, mode='markers'),\n",
    "    row=4, col=1\n",
    ")\n",
    "fig.update_layout(height=800, title_text=\"Multiplicative Decompose\",showlegend=False)\n",
    "fig.show()\n",
    "fig.write_html(pathForImages+'decomposition.html')"
   ]
  },
  {
   "cell_type": "code",
   "execution_count": null,
   "metadata": {},
   "outputs": [],
   "source": [
    "fig = px.line(dfW, x=dfW.index, y=\"sum\", title='Weekly sales')\n",
    "fig.show()"
   ]
  },
  {
   "cell_type": "code",
   "execution_count": null,
   "metadata": {},
   "outputs": [],
   "source": [
    "dfW = df.set_index('date')\n",
    "dfW = dfW.groupby(by=pd.Grouper(freq='W')).sum()[['sum']]\n",
    "fig = px.line(dfW, y=\"sum\", title='Weekly sales', color = dfW.index.year)\n",
    "fig.show()\n",
    "fig.write_html(pathForImages+'weeklySales.html')"
   ]
  },
  {
   "cell_type": "code",
   "execution_count": null,
   "metadata": {},
   "outputs": [],
   "source": [
    "dfM = df.set_index('date')\n",
    "\n",
    "dfM = dfM.groupby(by=pd.Grouper(freq='M')).sum()[['sum']]\n",
    "\n",
    "\n",
    "dfM['monthNumber']=dfM.index.month\n",
    "\n",
    "\n",
    "fig = px.line(dfM, x=dfM.index, y=\"sum\", title='Monthly sales')\n",
    "fig.show()\n",
    "fig.write_html(pathForImages+'monthlySales.html')"
   ]
  },
  {
   "cell_type": "code",
   "execution_count": null,
   "metadata": {},
   "outputs": [],
   "source": [
    "fig = px.line(dfM, \n",
    "              x='monthNumber', \n",
    "              y=\"sum\", \n",
    "              title='Monthly sales', \n",
    "              color = dfM.index.year)\n",
    "fig.show()\n",
    "fig.write_html(pathForImages+'monthlySalesY2Y.html')"
   ]
  },
  {
   "cell_type": "code",
   "execution_count": null,
   "metadata": {},
   "outputs": [],
   "source": [
    "fig, axes = plt.subplots(1, 2, figsize=(20,7), dpi= 300)\n",
    "sns.boxplot(x=dfM.index.year, y='sum', data=dfM, ax=axes[0])\n",
    "sns.boxplot(x=dfM.index.month, y='sum', data=dfM, ax=axes[1])\n",
    "\n",
    "axes[0].set_title('Year-wise Box Plot\\n(The Trend)', fontsize=18); \n",
    "axes[1].set_title('Month-wise Box Plot\\n(The Seasonality)', fontsize=18)\n",
    "plt.show()"
   ]
  }
 ],
 "metadata": {
  "kernelspec": {
   "display_name": "salesenv",
   "language": "python",
   "name": "salesenv"
  },
  "language_info": {
   "codemirror_mode": {
    "name": "ipython",
    "version": 3
   },
   "file_extension": ".py",
   "mimetype": "text/x-python",
   "name": "python",
   "nbconvert_exporter": "python",
   "pygments_lexer": "ipython3",
   "version": "3.8.10"
  }
 },
 "nbformat": 4,
 "nbformat_minor": 4
}
